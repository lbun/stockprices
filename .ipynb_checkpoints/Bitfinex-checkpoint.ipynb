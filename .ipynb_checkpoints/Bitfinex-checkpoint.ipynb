{
 "cells": [
  {
   "cell_type": "code",
   "execution_count": null,
   "metadata": {},
   "outputs": [],
   "source": [
    "# https://medium.com/coinmonks/how-to-get-historical-crypto-currency-data-954062d40d2d"
   ]
  },
  {
   "cell_type": "code",
   "execution_count": 12,
   "metadata": {},
   "outputs": [],
   "source": [
    "# import sys\n",
    "# sys.path.append('/anaconda3/envs/crypto/lib/python3.6/site-packages/')"
   ]
  },
  {
   "cell_type": "code",
   "execution_count": 275,
   "metadata": {},
   "outputs": [],
   "source": [
    "import bitfinex\n",
    "import pandas as pd\n",
    "import matplotlib as plt\n",
    "import datetime\n",
    "import time\n",
    "%matplotlib inline\n",
    "import pickle\n",
    "import datetime\n",
    "from datetime import timedelta"
   ]
  },
  {
   "cell_type": "code",
   "execution_count": 22,
   "metadata": {},
   "outputs": [
    {
     "name": "stdout",
     "output_type": "stream",
     "text": [
      "No keys, only access to public API functions\n"
     ]
    }
   ],
   "source": [
    "api_v2 = bitfinex.bitfinex_v2.api_v2()\n",
    "# the result will be the last 1000 data\n",
    "result = api_v2.candles()"
   ]
  },
  {
   "cell_type": "code",
   "execution_count": 23,
   "metadata": {},
   "outputs": [],
   "source": [
    "# Creating dataframe with columns\n",
    "names = ['time', 'open', 'close', 'high', 'low', 'volume']\n",
    "df = pd.DataFrame(result,columns=names)\n",
    "df['time'] = pd.to_datetime(df['time'], unit='ms')\n",
    "df.set_index('time', inplace=True)\n",
    "df.sort_index(inplace=True)\n",
    "df.head()"
   ]
  },
  {
   "cell_type": "code",
   "execution_count": 108,
   "metadata": {},
   "outputs": [],
   "source": [
    "# Save and Load\n",
    "pd.to_pickle(df,'dataframe_bitcoin')\n",
    "df = pd.read_pickle('dataframe_bitcoin')"
   ]
  },
  {
   "cell_type": "code",
   "execution_count": 56,
   "metadata": {},
   "outputs": [
    {
     "name": "stdout",
     "output_type": "stream",
     "text": [
      "No keys, only access to public API functions\n",
      "343\n"
     ]
    },
    {
     "data": {
      "text/plain": [
       "['btcusd', 'ltcusd', 'ltcbtc', 'ethusd', 'ethbtc']"
      ]
     },
     "execution_count": 56,
     "metadata": {},
     "output_type": "execute_result"
    }
   ],
   "source": [
    "# Check the list of what we can get \n",
    "api_v1 = bitfinex.bitfinex_v1.api_v1()\n",
    "pairs = api_v1.symbols()\n",
    "print(len(pairs))\n",
    "pairs[:5]"
   ]
  },
  {
   "cell_type": "code",
   "execution_count": 318,
   "metadata": {},
   "outputs": [],
   "source": [
    "# Define the start date\n",
    "t_start = datetime.datetime(2018, 4, 1, 0, 0)\n",
    "t_start = time.mktime(t_start.timetuple()) * 1000\n",
    "# Define the end date\n",
    "t_stop = datetime.datetime(2018, 4, 2, 0, 0)\n",
    "t_stop = time.mktime(t_stop.timetuple()) * 1000"
   ]
  },
  {
   "cell_type": "markdown",
   "metadata": {},
   "source": [
    "# Automation for Creating the file for Database"
   ]
  },
  {
   "cell_type": "code",
   "execution_count": 306,
   "metadata": {},
   "outputs": [
    {
     "name": "stdout",
     "output_type": "stream",
     "text": [
      "1388530800000.0 1388617200000.0\n"
     ]
    }
   ],
   "source": [
    "#### names = ['time', 'open', 'close', 'high', 'low', 'volume']\n",
    "t_start = datetime.datetime(2014, 1, 1, 0, 0) #starting from 1st January\n",
    "t_start = time.mktime(t_start.timetuple()) * 1000\n",
    "t_end = datetime.datetime(2014, 1, 2, 0, 0) #starting from 1st January\n",
    "t_end = time.mktime(t_end.timetuple()) * 1000\n",
    "result = api_v2.candles(symbol='btcusd', interval='1m',  limit=1000, start=t_start, end=t_end)\n",
    "print(t_start,t_end)\n",
    "df = pd.DataFrame(result,columns=names)"
   ]
  },
  {
   "cell_type": "code",
   "execution_count": 307,
   "metadata": {},
   "outputs": [],
   "source": [
    "def append_and_save(dataframe):\n",
    "    for i in range(5):\n",
    "        try:\n",
    "            dataframe = pd.read_pickle('dataframe_bitcoin')\n",
    "        except:\n",
    "            pass\n",
    "        print(dataframe.shape)\n",
    "        x = dataframe['time'].max()\n",
    "        y = x + 24*60*60*1000\n",
    "        result_temp = api_v2.candles(symbol='btcusd', interval='1m',  limit=1000, start=x, end=y)\n",
    "        df_temp = pd.DataFrame(result_temp,columns=names)\n",
    "        dataframe = dataframe.append(df_temp)\n",
    "        pd.to_pickle(dataframe,'dataframe_bitcoin')\n",
    "        time.sleep(2)"
   ]
  },
  {
   "cell_type": "code",
   "execution_count": 319,
   "metadata": {},
   "outputs": [
    {
     "name": "stdout",
     "output_type": "stream",
     "text": [
      "(10507, 6)\n",
      "(11507, 6)\n",
      "(12507, 6)\n",
      "(13446, 6)\n",
      "(14407, 6)\n"
     ]
    }
   ],
   "source": [
    "append_and_save(df)"
   ]
  },
  {
   "cell_type": "markdown",
   "metadata": {},
   "source": [
    "### Checks"
   ]
  },
  {
   "cell_type": "code",
   "execution_count": 315,
   "metadata": {},
   "outputs": [
    {
     "data": {
      "text/plain": [
       "10506"
      ]
     },
     "execution_count": 315,
     "metadata": {},
     "output_type": "execute_result"
    }
   ],
   "source": [
    "dfgg = pd.read_pickle('dataframe_bitcoin')\n",
    "dfgg['time'].nunique()"
   ]
  },
  {
   "cell_type": "code",
   "execution_count": 316,
   "metadata": {},
   "outputs": [],
   "source": [
    "dfgg['time'] = pd.to_datetime(df['time'], unit='ms')"
   ]
  },
  {
   "cell_type": "code",
   "execution_count": 317,
   "metadata": {},
   "outputs": [
    {
     "data": {
      "text/html": [
       "<div>\n",
       "<style scoped>\n",
       "    .dataframe tbody tr th:only-of-type {\n",
       "        vertical-align: middle;\n",
       "    }\n",
       "\n",
       "    .dataframe tbody tr th {\n",
       "        vertical-align: top;\n",
       "    }\n",
       "\n",
       "    .dataframe thead th {\n",
       "        text-align: right;\n",
       "    }\n",
       "</style>\n",
       "<table border=\"1\" class=\"dataframe\">\n",
       "  <thead>\n",
       "    <tr style=\"text-align: right;\">\n",
       "      <th></th>\n",
       "      <th>time</th>\n",
       "      <th>open</th>\n",
       "      <th>close</th>\n",
       "      <th>high</th>\n",
       "      <th>low</th>\n",
       "      <th>volume</th>\n",
       "    </tr>\n",
       "  </thead>\n",
       "  <tbody>\n",
       "    <tr>\n",
       "      <th>0</th>\n",
       "      <td>2014-01-01 23:00:00</td>\n",
       "      <td>754.0000</td>\n",
       "      <td>754.0000</td>\n",
       "      <td>754.0000</td>\n",
       "      <td>754.0000</td>\n",
       "      <td>0.552828</td>\n",
       "    </tr>\n",
       "    <tr>\n",
       "      <th>1</th>\n",
       "      <td>2014-01-01 22:59:00</td>\n",
       "      <td>751.8001</td>\n",
       "      <td>751.8001</td>\n",
       "      <td>751.8001</td>\n",
       "      <td>751.8001</td>\n",
       "      <td>0.400000</td>\n",
       "    </tr>\n",
       "    <tr>\n",
       "      <th>2</th>\n",
       "      <td>2014-01-01 22:58:00</td>\n",
       "      <td>753.9000</td>\n",
       "      <td>753.0100</td>\n",
       "      <td>753.9000</td>\n",
       "      <td>753.0100</td>\n",
       "      <td>5.100000</td>\n",
       "    </tr>\n",
       "    <tr>\n",
       "      <th>3</th>\n",
       "      <td>2014-01-01 22:56:00</td>\n",
       "      <td>753.9000</td>\n",
       "      <td>753.9000</td>\n",
       "      <td>753.9000</td>\n",
       "      <td>753.9000</td>\n",
       "      <td>0.220000</td>\n",
       "    </tr>\n",
       "    <tr>\n",
       "      <th>4</th>\n",
       "      <td>2014-01-01 22:55:00</td>\n",
       "      <td>753.9500</td>\n",
       "      <td>754.0000</td>\n",
       "      <td>754.0000</td>\n",
       "      <td>753.9500</td>\n",
       "      <td>5.000000</td>\n",
       "    </tr>\n",
       "  </tbody>\n",
       "</table>\n",
       "</div>"
      ],
      "text/plain": [
       "                 time      open     close      high       low    volume\n",
       "0 2014-01-01 23:00:00  754.0000  754.0000  754.0000  754.0000  0.552828\n",
       "1 2014-01-01 22:59:00  751.8001  751.8001  751.8001  751.8001  0.400000\n",
       "2 2014-01-01 22:58:00  753.9000  753.0100  753.9000  753.0100  5.100000\n",
       "3 2014-01-01 22:56:00  753.9000  753.9000  753.9000  753.9000  0.220000\n",
       "4 2014-01-01 22:55:00  753.9500  754.0000  754.0000  753.9500  5.000000"
      ]
     },
     "execution_count": 317,
     "metadata": {},
     "output_type": "execute_result"
    }
   ],
   "source": [
    "dfgg.head()"
   ]
  },
  {
   "cell_type": "code",
   "execution_count": null,
   "metadata": {},
   "outputs": [],
   "source": []
  }
 ],
 "metadata": {
  "kernelspec": {
   "display_name": "Python 3",
   "language": "python",
   "name": "python3"
  },
  "language_info": {
   "codemirror_mode": {
    "name": "ipython",
    "version": 3
   },
   "file_extension": ".py",
   "mimetype": "text/x-python",
   "name": "python",
   "nbconvert_exporter": "python",
   "pygments_lexer": "ipython3",
   "version": "3.7.1"
  }
 },
 "nbformat": 4,
 "nbformat_minor": 2
}
